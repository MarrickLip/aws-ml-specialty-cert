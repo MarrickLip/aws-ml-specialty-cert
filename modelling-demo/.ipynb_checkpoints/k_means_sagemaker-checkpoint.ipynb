{
 "cells": [
  {
   "cell_type": "code",
   "execution_count": 56,
   "id": "80ec152b",
   "metadata": {},
   "outputs": [],
   "source": [
    "!pip install sagemaker boto3 mxnet --quiet"
   ]
  },
  {
   "cell_type": "code",
   "execution_count": 57,
   "id": "59f9ff2b",
   "metadata": {},
   "outputs": [],
   "source": [
    "import sagemaker\n",
    "import boto3\n",
    "import mxnet as mx\n",
    "import os\n",
    "\n",
    "import matplotlib.pyplot as plt"
   ]
  },
  {
   "cell_type": "code",
   "execution_count": 58,
   "id": "156ad4d0",
   "metadata": {},
   "outputs": [],
   "source": [
    "sess = sagemaker.Session()\n",
    "bucket = sess.default_bucket()\n",
    "\n",
    "iam = boto3.client('iam')\n",
    "role = iam.get_role(RoleName='sagemaker-execution-role')['Role']['Arn']"
   ]
  },
  {
   "cell_type": "code",
   "execution_count": 59,
   "id": "f0229fdb",
   "metadata": {},
   "outputs": [],
   "source": [
    "df = pd.read_csv('ufo_sightings.csv')\n",
    "train_data = df[['latitude', 'longitude']].values.astype(\"float32\")"
   ]
  },
  {
   "cell_type": "code",
   "execution_count": 60,
   "id": "030de103",
   "metadata": {},
   "outputs": [
    {
     "name": "stderr",
     "output_type": "stream",
     "text": [
      "Defaulting to the only supported framework/algorithm version: 1. Ignoring framework/algorithm version: 1.\n",
      "Defaulting to the only supported framework/algorithm version: 1. Ignoring framework/algorithm version: 1.\n"
     ]
    },
    {
     "name": "stdout",
     "output_type": "stream",
     "text": [
      "2022-07-08 04:17:59 Starting - Starting the training job...........\n",
      "2022-07-08 04:20:06 Downloading - Downloading input data...\n",
      "2022-07-08 04:20:26 Training - Downloading the training image...\n",
      "2022-07-08 04:21:07 Uploading - Uploading generated training model\u001b[34mDocker entrypoint called with argument(s): train\u001b[0m\n",
      "\u001b[34mRunning default environment configuration script\u001b[0m\n",
      "\u001b[34m[07/08/2022 04:20:52 INFO 140434517325632] Reading default configuration from /opt/amazon/lib/python3.7/site-packages/algorithm/resources/default-input.json: {'init_method': 'random', 'mini_batch_size': '5000', 'epochs': '1', 'extra_center_factor': 'auto', 'local_lloyd_max_iter': '300', 'local_lloyd_tol': '0.0001', 'local_lloyd_init_method': 'kmeans++', 'local_lloyd_num_trials': 'auto', 'half_life_time_size': '0', 'eval_metrics': '[\"msd\"]', 'force_dense': 'true', '_disable_wait_to_read': 'false', '_enable_profiler': 'false', '_kvstore': 'auto', '_log_level': 'info', '_num_gpus': 'auto', '_num_kv_servers': '1', '_num_slices': '1', '_tuning_objective_metric': ''}\u001b[0m\n",
      "\u001b[34m[07/08/2022 04:20:52 INFO 140434517325632] Merging with provided configuration from /opt/ml/input/config/hyperparameters.json: {'feature_dim': '2', 'force_dense': 'True', 'k': '10'}\u001b[0m\n",
      "\u001b[34m[07/08/2022 04:20:52 INFO 140434517325632] Final configuration: {'init_method': 'random', 'mini_batch_size': '5000', 'epochs': '1', 'extra_center_factor': 'auto', 'local_lloyd_max_iter': '300', 'local_lloyd_tol': '0.0001', 'local_lloyd_init_method': 'kmeans++', 'local_lloyd_num_trials': 'auto', 'half_life_time_size': '0', 'eval_metrics': '[\"msd\"]', 'force_dense': 'True', '_disable_wait_to_read': 'false', '_enable_profiler': 'false', '_kvstore': 'auto', '_log_level': 'info', '_num_gpus': 'auto', '_num_kv_servers': '1', '_num_slices': '1', '_tuning_objective_metric': '', 'feature_dim': '2', 'k': '10'}\u001b[0m\n",
      "\u001b[34m[07/08/2022 04:20:55 WARNING 140434517325632] Loggers have already been setup.\u001b[0m\n",
      "\u001b[34m[07/08/2022 04:20:55 INFO 140434517325632] Final configuration: {'init_method': 'random', 'mini_batch_size': '5000', 'epochs': '1', 'extra_center_factor': 'auto', 'local_lloyd_max_iter': '300', 'local_lloyd_tol': '0.0001', 'local_lloyd_init_method': 'kmeans++', 'local_lloyd_num_trials': 'auto', 'half_life_time_size': '0', 'eval_metrics': '[\"msd\"]', 'force_dense': 'True', '_disable_wait_to_read': 'false', '_enable_profiler': 'false', '_kvstore': 'auto', '_log_level': 'info', '_num_gpus': 'auto', '_num_kv_servers': '1', '_num_slices': '1', '_tuning_objective_metric': '', 'feature_dim': '2', 'k': '10'}\u001b[0m\n",
      "\u001b[34m[07/08/2022 04:20:55 WARNING 140434517325632] Loggers have already been setup.\u001b[0m\n",
      "\u001b[34mProcess 1 is a worker.\u001b[0m\n",
      "\u001b[34m[07/08/2022 04:20:55 INFO 140434517325632] Using default worker.\u001b[0m\n",
      "\u001b[34m[07/08/2022 04:20:55 INFO 140434517325632] Loaded iterator creator application/x-recordio-protobuf for content type ('application/x-recordio-protobuf', '1.0')\u001b[0m\n",
      "\u001b[34m[07/08/2022 04:20:55 INFO 140434517325632] Create Store: local\u001b[0m\n",
      "\u001b[34m[07/08/2022 04:20:55 INFO 140434517325632] nvidia-smi: took 0.030 seconds to run.\u001b[0m\n",
      "\u001b[34m[07/08/2022 04:20:55 INFO 140434517325632] nvidia-smi identified 0 GPUs.\u001b[0m\n",
      "\u001b[34m[07/08/2022 04:20:55 INFO 140434517325632] Number of GPUs being used: 0\u001b[0m\n",
      "\u001b[34m[07/08/2022 04:20:55 INFO 140434517325632] Checkpoint loading and saving are disabled.\u001b[0m\n",
      "\u001b[34m[07/08/2022 04:20:55 INFO 140434517325632] Setting up with params: {'init_method': 'random', 'mini_batch_size': '5000', 'epochs': '1', 'extra_center_factor': 'auto', 'local_lloyd_max_iter': '300', 'local_lloyd_tol': '0.0001', 'local_lloyd_init_method': 'kmeans++', 'local_lloyd_num_trials': 'auto', 'half_life_time_size': '0', 'eval_metrics': '[\"msd\"]', 'force_dense': 'True', '_disable_wait_to_read': 'false', '_enable_profiler': 'false', '_kvstore': 'auto', '_log_level': 'info', '_num_gpus': 'auto', '_num_kv_servers': '1', '_num_slices': '1', '_tuning_objective_metric': '', 'feature_dim': '2', 'k': '10'}\u001b[0m\n",
      "\u001b[34m[07/08/2022 04:20:55 INFO 140434517325632] 'extra_center_factor' was set to 'auto', evaluated to 10.\u001b[0m\n",
      "\u001b[34m[07/08/2022 04:20:55 INFO 140434517325632] Number of GPUs being used: 0\u001b[0m\n",
      "\u001b[34m[07/08/2022 04:20:55 INFO 140434517325632] number of center slices 1\u001b[0m\n",
      "\u001b[34m#metrics {\"StartTime\": 1657254055.676033, \"EndTime\": 1657254055.6760721, \"Dimensions\": {\"Algorithm\": \"AWS/KMeansWebscale\", \"Host\": \"algo-1\", \"Operation\": \"training\", \"Meta\": \"init_train_data_iter\"}, \"Metrics\": {\"Total Records Seen\": {\"sum\": 5000.0, \"count\": 1, \"min\": 5000, \"max\": 5000}, \"Total Batches Seen\": {\"sum\": 1.0, \"count\": 1, \"min\": 1, \"max\": 1}, \"Max Records Seen Between Resets\": {\"sum\": 5000.0, \"count\": 1, \"min\": 5000, \"max\": 5000}, \"Max Batches Seen Between Resets\": {\"sum\": 1.0, \"count\": 1, \"min\": 1, \"max\": 1}, \"Reset Count\": {\"sum\": 0.0, \"count\": 1, \"min\": 0, \"max\": 0}, \"Number of Records Since Last Reset\": {\"sum\": 5000.0, \"count\": 1, \"min\": 5000, \"max\": 5000}, \"Number of Batches Since Last Reset\": {\"sum\": 1.0, \"count\": 1, \"min\": 1, \"max\": 1}}}\u001b[0m\n",
      "\u001b[34m[2022-07-08 04:20:55.676] [tensorio] [info] epoch_stats={\"data_pipeline\": \"/opt/ml/input/data/train\", \"epoch\": 0, \"duration\": 44, \"num_examples\": 1, \"num_bytes\": 160000}\u001b[0m\n",
      "\u001b[34m[2022-07-08 04:20:55.775] [tensorio] [info] epoch_stats={\"data_pipeline\": \"/opt/ml/input/data/train\", \"epoch\": 1, \"duration\": 97, \"num_examples\": 4, \"num_bytes\": 576000}\u001b[0m\n",
      "\u001b[34m[07/08/2022 04:20:55 INFO 140434517325632] processed a total of 18000 examples\u001b[0m\n",
      "\u001b[34m[07/08/2022 04:20:55 INFO 140434517325632] #progress_metric: host=algo-1, completed 100.0 % of epochs\u001b[0m\n",
      "\u001b[34m#metrics {\"StartTime\": 1657254055.6764543, \"EndTime\": 1657254055.777256, \"Dimensions\": {\"Algorithm\": \"AWS/KMeansWebscale\", \"Host\": \"algo-1\", \"Operation\": \"training\", \"epoch\": 0, \"Meta\": \"training_data_iter\"}, \"Metrics\": {\"Total Records Seen\": {\"sum\": 23000.0, \"count\": 1, \"min\": 23000, \"max\": 23000}, \"Total Batches Seen\": {\"sum\": 5.0, \"count\": 1, \"min\": 5, \"max\": 5}, \"Max Records Seen Between Resets\": {\"sum\": 18000.0, \"count\": 1, \"min\": 18000, \"max\": 18000}, \"Max Batches Seen Between Resets\": {\"sum\": 4.0, \"count\": 1, \"min\": 4, \"max\": 4}, \"Reset Count\": {\"sum\": 1.0, \"count\": 1, \"min\": 1, \"max\": 1}, \"Number of Records Since Last Reset\": {\"sum\": 18000.0, \"count\": 1, \"min\": 18000, \"max\": 18000}, \"Number of Batches Since Last Reset\": {\"sum\": 4.0, \"count\": 1, \"min\": 4, \"max\": 4}}}\u001b[0m\n",
      "\u001b[34m[07/08/2022 04:20:55 INFO 140434517325632] #throughput_metric: host=algo-1, train throughput=178247.15090129973 records/second\u001b[0m\n",
      "\u001b[34m[07/08/2022 04:20:55 WARNING 140434517325632] wait_for_all_workers will not sync workers since the kv store is not running distributed\u001b[0m\n",
      "\u001b[34m[07/08/2022 04:20:55 INFO 140434517325632] shrinking 100 centers into 10\u001b[0m\n",
      "\u001b[34m[07/08/2022 04:20:55 INFO 140434517325632] local kmeans attempt #0. Current mean square distance 22.204065\u001b[0m\n",
      "\u001b[34m[07/08/2022 04:20:55 INFO 140434517325632] local kmeans attempt #1. Current mean square distance 25.276190\u001b[0m\n",
      "\u001b[34m[07/08/2022 04:20:55 INFO 140434517325632] local kmeans attempt #2. Current mean square distance 24.361076\u001b[0m\n",
      "\u001b[34m[07/08/2022 04:20:55 INFO 140434517325632] local kmeans attempt #3. Current mean square distance 22.381100\u001b[0m\n",
      "\u001b[34m[07/08/2022 04:20:56 INFO 140434517325632] local kmeans attempt #4. Current mean square distance 24.251778\u001b[0m\n",
      "\u001b[34m[07/08/2022 04:20:56 INFO 140434517325632] local kmeans attempt #5. Current mean square distance 25.626083\u001b[0m\n",
      "\u001b[34m[07/08/2022 04:20:56 INFO 140434517325632] local kmeans attempt #6. Current mean square distance 24.502356\u001b[0m\n",
      "\u001b[34m[07/08/2022 04:20:56 INFO 140434517325632] local kmeans attempt #7. Current mean square distance 21.923962\u001b[0m\n",
      "\u001b[34m[07/08/2022 04:20:56 INFO 140434517325632] local kmeans attempt #8. Current mean square distance 22.175543\u001b[0m\n",
      "\u001b[34m[07/08/2022 04:20:56 INFO 140434517325632] local kmeans attempt #9. Current mean square distance 27.004248\u001b[0m\n",
      "\u001b[34m[07/08/2022 04:20:56 INFO 140434517325632] finished shrinking process. Mean Square Distance = 22\u001b[0m\n",
      "\u001b[34m[07/08/2022 04:20:56 INFO 140434517325632] #quality_metric: host=algo-1, train msd <loss>=21.923961639404297\u001b[0m\n",
      "\u001b[34m[07/08/2022 04:20:56 INFO 140434517325632] compute all data-center distances: inner product took: 22.7407%, (0.024257 secs)\u001b[0m\n",
      "\u001b[34m[07/08/2022 04:20:56 INFO 140434517325632] predict compute msd took: 20.4356%, (0.021798 secs)\u001b[0m\n",
      "\u001b[34m[07/08/2022 04:20:56 INFO 140434517325632] gradient: cluster size  took: 12.1368%, (0.012946 secs)\u001b[0m\n",
      "\u001b[34m[07/08/2022 04:20:56 INFO 140434517325632] gradient: cluster center took: 9.0972%, (0.009704 secs)\u001b[0m\n",
      "\u001b[34m[07/08/2022 04:20:56 INFO 140434517325632] collect from kv store took: 8.4302%, (0.008992 secs)\u001b[0m\n",
      "\u001b[34m[07/08/2022 04:20:56 INFO 140434517325632] splitting centers key-value pair took: 7.9224%, (0.008451 secs)\u001b[0m\n",
      "\u001b[34m[07/08/2022 04:20:56 INFO 140434517325632] batch data loading with context took: 7.1082%, (0.007582 secs)\u001b[0m\n",
      "\u001b[34m[07/08/2022 04:20:56 INFO 140434517325632] compute all data-center distances: point norm took: 4.1122%, (0.004386 secs)\u001b[0m\n",
      "\u001b[34m[07/08/2022 04:20:56 INFO 140434517325632] gradient: one_hot took: 4.0252%, (0.004294 secs)\u001b[0m\n",
      "\u001b[34m[07/08/2022 04:20:56 INFO 140434517325632] update state and report convergance took: 2.8440%, (0.003034 secs)\u001b[0m\n",
      "\u001b[34m[07/08/2022 04:20:56 INFO 140434517325632] compute all data-center distances: center norm took: 0.7121%, (0.000760 secs)\u001b[0m\n",
      "\u001b[34m[07/08/2022 04:20:56 INFO 140434517325632] update set-up time took: 0.3411%, (0.000364 secs)\u001b[0m\n",
      "\u001b[34m[07/08/2022 04:20:56 INFO 140434517325632] predict minus dist took: 0.0943%, (0.000101 secs)\u001b[0m\n",
      "\u001b[34m[07/08/2022 04:20:56 INFO 140434517325632] TOTAL took: 0.10666871070861816\u001b[0m\n",
      "\u001b[34m[07/08/2022 04:20:56 INFO 140434517325632] Number of GPUs being used: 0\u001b[0m\n",
      "\u001b[34m#metrics {\"StartTime\": 1657254055.63096, \"EndTime\": 1657254056.2664382, \"Dimensions\": {\"Algorithm\": \"AWS/KMeansWebscale\", \"Host\": \"algo-1\", \"Operation\": \"training\"}, \"Metrics\": {\"initialize.time\": {\"sum\": 37.45865821838379, \"count\": 1, \"min\": 37.45865821838379, \"max\": 37.45865821838379}, \"epochs\": {\"sum\": 1.0, \"count\": 1, \"min\": 1, \"max\": 1}, \"update.time\": {\"sum\": 100.27909278869629, \"count\": 1, \"min\": 100.27909278869629, \"max\": 100.27909278869629}, \"_shrink.time\": {\"sum\": 481.34779930114746, \"count\": 1, \"min\": 481.34779930114746, \"max\": 481.34779930114746}, \"finalize.time\": {\"sum\": 487.262487411499, \"count\": 1, \"min\": 487.262487411499, \"max\": 487.262487411499}, \"model.serialize.time\": {\"sum\": 1.4622211456298828, \"count\": 1, \"min\": 1.4622211456298828, \"max\": 1.4622211456298828}}}\u001b[0m\n",
      "\u001b[34m[07/08/2022 04:20:56 INFO 140434517325632] Test data is not provided.\u001b[0m\n",
      "\u001b[34m#metrics {\"StartTime\": 1657254056.2665257, \"EndTime\": 1657254056.2667933, \"Dimensions\": {\"Algorithm\": \"AWS/KMeansWebscale\", \"Host\": \"algo-1\", \"Operation\": \"training\"}, \"Metrics\": {\"setuptime\": {\"sum\": 2.95257568359375, \"count\": 1, \"min\": 2.95257568359375, \"max\": 2.95257568359375}, \"totaltime\": {\"sum\": 687.896728515625, \"count\": 1, \"min\": 687.896728515625, \"max\": 687.896728515625}}}\u001b[0m\n"
     ]
    },
    {
     "name": "stdout",
     "output_type": "stream",
     "text": [
      "\n",
      "2022-07-08 04:21:27 Completed - Training job completed\n",
      "Training seconds: 92\n",
      "Billable seconds: 92\n",
      "CPU times: user 808 ms, sys: 26.7 ms, total: 835 ms\n",
      "Wall time: 3min 57s\n"
     ]
    }
   ],
   "source": [
    "%%time\n",
    "\n",
    "kmeans = sagemaker.KMeans(\n",
    "    role=role,\n",
    "    instance_count=1,\n",
    "    instance_type=\"ml.c4.xlarge\",\n",
    "    output_path=\"s3://\" + bucket + \"/ufo_sightings/\",\n",
    "    k=10\n",
    ")\n",
    "\n",
    "kmeans.fit(kmeans.record_set(train_data))"
   ]
  },
  {
   "cell_type": "code",
   "execution_count": 61,
   "id": "402c02f5",
   "metadata": {},
   "outputs": [
    {
     "name": "stdout",
     "output_type": "stream",
     "text": [
      "model_algo-1\n"
     ]
    },
    {
     "data": {
      "text/html": [
       "<div>\n",
       "<style scoped>\n",
       "    .dataframe tbody tr th:only-of-type {\n",
       "        vertical-align: middle;\n",
       "    }\n",
       "\n",
       "    .dataframe tbody tr th {\n",
       "        vertical-align: top;\n",
       "    }\n",
       "\n",
       "    .dataframe thead th {\n",
       "        text-align: right;\n",
       "    }\n",
       "</style>\n",
       "<table border=\"1\" class=\"dataframe\">\n",
       "  <thead>\n",
       "    <tr style=\"text-align: right;\">\n",
       "      <th></th>\n",
       "      <th>latitude</th>\n",
       "      <th>longitude</th>\n",
       "    </tr>\n",
       "  </thead>\n",
       "  <tbody>\n",
       "    <tr>\n",
       "      <th>0</th>\n",
       "      <td>41.629055</td>\n",
       "      <td>-87.114143</td>\n",
       "    </tr>\n",
       "    <tr>\n",
       "      <th>1</th>\n",
       "      <td>48.960712</td>\n",
       "      <td>3.735435</td>\n",
       "    </tr>\n",
       "    <tr>\n",
       "      <th>2</th>\n",
       "      <td>-5.653637</td>\n",
       "      <td>117.898895</td>\n",
       "    </tr>\n",
       "    <tr>\n",
       "      <th>3</th>\n",
       "      <td>35.753059</td>\n",
       "      <td>-119.177948</td>\n",
       "    </tr>\n",
       "    <tr>\n",
       "      <th>4</th>\n",
       "      <td>47.805180</td>\n",
       "      <td>-122.428078</td>\n",
       "    </tr>\n",
       "    <tr>\n",
       "      <th>5</th>\n",
       "      <td>41.427853</td>\n",
       "      <td>-74.687729</td>\n",
       "    </tr>\n",
       "    <tr>\n",
       "      <th>6</th>\n",
       "      <td>31.261000</td>\n",
       "      <td>-81.945000</td>\n",
       "    </tr>\n",
       "    <tr>\n",
       "      <th>7</th>\n",
       "      <td>36.544823</td>\n",
       "      <td>-108.807030</td>\n",
       "    </tr>\n",
       "    <tr>\n",
       "      <th>8</th>\n",
       "      <td>34.382694</td>\n",
       "      <td>-95.684349</td>\n",
       "    </tr>\n",
       "    <tr>\n",
       "      <th>9</th>\n",
       "      <td>23.352795</td>\n",
       "      <td>-155.134796</td>\n",
       "    </tr>\n",
       "  </tbody>\n",
       "</table>\n",
       "</div>"
      ],
      "text/plain": [
       "    latitude   longitude\n",
       "0  41.629055  -87.114143\n",
       "1  48.960712    3.735435\n",
       "2  -5.653637  117.898895\n",
       "3  35.753059 -119.177948\n",
       "4  47.805180 -122.428078\n",
       "5  41.427853  -74.687729\n",
       "6  31.261000  -81.945000\n",
       "7  36.544823 -108.807030\n",
       "8  34.382694  -95.684349\n",
       "9  23.352795 -155.134796"
      ]
     },
     "execution_count": 61,
     "metadata": {},
     "output_type": "execute_result"
    }
   ],
   "source": [
    "job_name = kmeans.latest_training_job.name\n",
    "model_key = \"ufo_sightings/\" + job_name + \"/output/model.tar.gz\"\n",
    "\n",
    "boto3.resource(\"s3\").Bucket(bucket).download_file(model_key, \"model.tar.gz\")\n",
    "os.system(\"tar -zxvf model.tar.gz\")\n",
    "\n",
    "kmeans_model_params = mx.ndarray.load(\"model_algo-1\")\n",
    "\n",
    "cluster_centroids = pd.DataFrame(kmeans_model_params[0].asnumpy())\n",
    "cluster_centroids.columns = ['latitude', 'longitude']\n",
    "\n",
    "cluster_centroids"
   ]
  },
  {
   "cell_type": "code",
   "execution_count": 62,
   "id": "c3d74a43",
   "metadata": {},
   "outputs": [
    {
     "data": {
      "text/plain": [
       "<matplotlib.legend.Legend at 0x7fa4d9a604f0>"
      ]
     },
     "execution_count": 62,
     "metadata": {},
     "output_type": "execute_result"
    },
    {
     "data": {
      "image/png": "[encoded data removed]",
      "text/plain": [
       "<Figure size 432x288 with 1 Axes>"
      ]
     },
     "metadata": {
      "needs_background": "light"
     },
     "output_type": "display_data"
    }
   ],
   "source": [
    "fig, ax = plt.subplots(1)\n",
    "\n",
    "ax.scatter(df.longitude, df.latitude, s=0.2, label='UFO Sighting')\n",
    "ax.scatter(cluster_centroids.longitude, cluster_centroids.latitude, c='red', marker='x', s=100, label='Centroid')\n",
    "ax.legend()"
   ]
  },
  {
   "cell_type": "code",
   "execution_count": null,
   "id": "7bc33968",
   "metadata": {},
   "outputs": [],
   "source": []
  }
 ],
 "metadata": {
  "kernelspec": {
   "display_name": "Python 3 (ipykernel)",
   "language": "python",
   "name": "python3"
  },
  "language_info": {
   "codemirror_mode": {
    "name": "ipython",
    "version": 3
   },
   "file_extension": ".py",
   "mimetype": "text/x-python",
   "name": "python",
   "nbconvert_exporter": "python",
   "pygments_lexer": "ipython3",
   "version": "3.10.4"
  }
 },
 "nbformat": 4,
 "nbformat_minor": 5
}
